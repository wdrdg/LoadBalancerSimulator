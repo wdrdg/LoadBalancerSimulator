{
 "cells": [
  {
   "cell_type": "code",
   "execution_count": 4,
   "id": "2f84c0a1-b558-4327-891a-f40a21865410",
   "metadata": {},
   "outputs": [],
   "source": [
    "import gym\n",
    "from gym import spaces"
   ]
  },
  {
   "cell_type": "code",
   "execution_count": 4,
   "id": "740b8b15-6154-442a-930c-660cec1c0f4e",
   "metadata": {},
   "outputs": [
    {
     "name": "stdout",
     "output_type": "stream",
     "text": [
      "fatal: Not a git repository (or any of the parent directories): .git\n"
     ]
    }
   ],
   "source": [
    "!git branch StevenYuan"
   ]
  },
  {
   "cell_type": "code",
   "execution_count": null,
   "id": "cec21423-af54-471e-b503-230664f304d1",
   "metadata": {},
   "outputs": [],
   "source": [
    "class CustomEnv(gym.Env):\n",
    "    "
   ]
  }
 ],
 "metadata": {
  "kernelspec": {
   "display_name": "Python 3",
   "language": "python",
   "name": "python3"
  },
  "language_info": {
   "codemirror_mode": {
    "name": "ipython",
    "version": 3
   },
   "file_extension": ".py",
   "mimetype": "text/x-python",
   "name": "python",
   "nbconvert_exporter": "python",
   "pygments_lexer": "ipython3",
   "version": "3.8.2"
  }
 },
 "nbformat": 4,
 "nbformat_minor": 5
}
